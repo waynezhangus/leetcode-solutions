{
 "cells": [
  {
   "cell_type": "code",
   "execution_count": 1,
   "metadata": {},
   "outputs": [],
   "source": [
    "def find_closest_numbers(arr, num):\n",
    "    arr.sort()\n",
    "    smallest_diff = float('inf')\n",
    "    closest = arr[:3]\n",
    "    \n",
    "    for i in range(3, len(arr)):\n",
    "        diff = abs(arr[i] - num)\n",
    "        if diff < smallest_diff:\n",
    "            smallest_diff = diff\n",
    "            closest = [arr[i-2], arr[i-1], arr[i]]\n",
    "    \n",
    "    return closest"
   ]
  },
  {
   "cell_type": "code",
   "execution_count": 5,
   "metadata": {},
   "outputs": [
    {
     "name": "stdout",
     "output_type": "stream",
     "text": [
      "[8, 11, 13]\n"
     ]
    }
   ],
   "source": [
    "arr = [2, 5, 8, 11, 13, 17]\n",
    "num = 13\n",
    "result = find_closest_numbers(arr, num)\n",
    "print(result) # Output: [5, 9, 11]"
   ]
  }
 ],
 "metadata": {
  "kernelspec": {
   "display_name": "Python 3",
   "language": "python",
   "name": "python3"
  },
  "language_info": {
   "codemirror_mode": {
    "name": "ipython",
    "version": 3
   },
   "file_extension": ".py",
   "mimetype": "text/x-python",
   "name": "python",
   "nbconvert_exporter": "python",
   "pygments_lexer": "ipython3",
   "version": "3.9.13"
  },
  "orig_nbformat": 4
 },
 "nbformat": 4,
 "nbformat_minor": 2
}
